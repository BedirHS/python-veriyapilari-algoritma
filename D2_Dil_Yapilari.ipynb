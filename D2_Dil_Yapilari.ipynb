{
  "nbformat": 4,
  "nbformat_minor": 0,
  "metadata": {
    "colab": {
      "provenance": []
    },
    "kernelspec": {
      "name": "python3",
      "display_name": "Python 3"
    },
    "language_info": {
      "name": "python"
    }
  },
  "cells": [
    {
      "cell_type": "code",
      "execution_count": 8,
      "metadata": {
        "colab": {
          "base_uri": "https://localhost:8080/"
        },
        "id": "dG_6A9DEn2QV",
        "outputId": "ef60cedf-bb89-4604-88fe-46f9feacfc0f"
      },
      "outputs": [
        {
          "output_type": "stream",
          "name": "stdout",
          "text": [
            "Merhaba, İGÜ - İSTKA / Ders 2\n"
          ]
        }
      ],
      "source": [
        "print(\"Merhaba, İGÜ - İSTKA / Ders 2\") # print ekrana çıktı veren koddur."
      ]
    },
    {
      "cell_type": "code",
      "source": [
        "import sys # import python proglamla dilinde yazılıma kütüphane eklemeye yarayan bir kod bloğudur.\n",
        "print(sys.version)"
      ],
      "metadata": {
        "colab": {
          "base_uri": "https://localhost:8080/"
        },
        "id": "NgoxsGvaowqu",
        "outputId": "556e3210-d42f-47be-f67d-8d0566ce250a"
      },
      "execution_count": 9,
      "outputs": [
        {
          "output_type": "stream",
          "name": "stdout",
          "text": [
            "3.10.12 (main, Jul 29 2024, 16:56:48) [GCC 11.4.0]\n"
          ]
        }
      ]
    },
    {
      "cell_type": "code",
      "source": [
        "from google.colab import drive # google colab - drive bağlantısı\n",
        "\n",
        "drive.mount('/content/drive')"
      ],
      "metadata": {
        "colab": {
          "base_uri": "https://localhost:8080/"
        },
        "id": "rvl4AtxfpHg1",
        "outputId": "6f1b3906-e411-4d79-889e-dc49e41ddccd"
      },
      "execution_count": 10,
      "outputs": [
        {
          "output_type": "stream",
          "name": "stdout",
          "text": [
            "Drive already mounted at /content/drive; to attempt to forcibly remount, call drive.mount(\"/content/drive\", force_remount=True).\n"
          ]
        }
      ]
    },
    {
      "cell_type": "code",
      "source": [
        "import os\n",
        "\n",
        "os.chdir('/content/drive/My Drive/VERIYAPILARI_ISTKA')\n",
        "\n",
        "!pwd # bize kodun çıktısını dosya yolu olarak veren kod bloğudur."
      ],
      "metadata": {
        "colab": {
          "base_uri": "https://localhost:8080/"
        },
        "id": "uI6FPbh2pfRe",
        "outputId": "40488ca6-3424-460e-fa59-85740c62784d"
      },
      "execution_count": 13,
      "outputs": [
        {
          "output_type": "stream",
          "name": "stdout",
          "text": [
            "/content/drive/My Drive/VERIYAPILARI_ISTKA\n"
          ]
        }
      ]
    },
    {
      "cell_type": "markdown",
      "source": [
        "VERİ YAPILARI ve TİPLERİ\n",
        "\n",
        "Veri Yapıları nedir? Veri yapıları, verilerin organize edilmesinde ve saklanırken türlerini tanımlar. Bu yapılar, verilerin etkin bir şekilde kullanımı - işlenmesini sağlamaktadır.\n",
        "\n",
        "Buradaki ilk kural değişken isimlendirme kurallarının kavranmasıdır.\n",
        "\n",
        "Değişken ismi arasında boşuk olmamalıdır\n",
        "Özel karakter kesinlikle eklenmemelidir.\n",
        "Değişkenlerde Türkçe Karakter kullanılmamalıdır\n",
        "Döngü ve Kontrol yapılarının isimleri değişken olamaz (if, for, while)\n",
        "Büyük ve Küçük harf duyarlılığı unutulmamalıdır\n",
        "Veri Tipleri\n",
        "\n",
        "Integer - Tamsayı tanımlaması\n",
        "Float - Ondalıklı Sayı tanımlaması\n",
        "String - Metinsel içerik tanımlaması\n",
        "Boolean (True - False) - Doğru / Yanlış tanımlaması\n",
        "List - Liste tanımlaması\n",
        "Tuple - Demet tanımlaması\n",
        "Dictionary - Sözlük tanımlaması\n",
        "Set - Küme tanımlaması\n",
        "Python Programlama Dili Temelinde Kullanılan Fonksiyonlar\n",
        "\n",
        "len() -> bir değişkenin uzunluğunu ele almaktadır.\n",
        "type() -> bir değişkenin veri tipini vermektedir.\n",
        "print() -> belirtilen değeri veya değerleri ekrana yazdırır.\n",
        "capitalized() -> bir dizeyi alır ve sadece ilk harfini büyük harf yapar, geri kalan harfleri küçük harf yapar.\n",
        "split() -> bir dizeyi belirli bir ayırıcıya göre böler ve her bir parçayı liste elemanı olarak döner.\n",
        "upper() -> bir dizedeki tüm harfleri büyük harfe çevirir.\n",
        "input() -> kullanıcıdan veri almak için kullanılmaktadır.\n",
        "float() -> bir değeri ondalıklı sayı veri tipine dönüştürmek için kullanılır.\n",
        "int() -> bir değeri tam sayı veri tipine dönüştürmek için kullanılır.\n",
        "abs() -> mutlak değer alma fonksiyonudur.\n",
        "Python Programlama Dilinde Kullanılan Temel Ktüphaneler\n",
        "\n",
        "Kütüphane terim olarak; Belirli bir işlevselliği gerçekleştirmek için önceden yazılmış kod bloklarının bir topluluğudur.\n",
        "\n",
        "Özellikler:\n",
        "\n",
        "Yeniden Kullanılabilirlik\n",
        "\n",
        "Modülerlik\n",
        "\n",
        "Kolaylık, Hız ve Esneklik\n",
        "\n",
        "Dökümantasyon:\n",
        "\n",
        "Python Programlama dilinde Kütüphaneler \"import\" ile yazılıma eklenmektedir. Temel Kütüphaneler:\n",
        "\n",
        "import os -> işletim sistemiyle etkilişimli kod yazımı için gerekli olan bir kütüphanedir. Asli görevi dizin işlemleridir.\n",
        "\n",
        "import random -> yazılımda rastgele bir sayı üretmebilmek için kullanılan bir kütüphanedir."
      ],
      "metadata": {
        "id": "Sm_o52sqsHGl"
      }
    },
    {
      "cell_type": "code",
      "source": [
        "# Geçerli değişken tanımlaması\n",
        "degisken_1 = 10\n",
        "Degisken2 = 20\n",
        "_degisken3 = 30"
      ],
      "metadata": {
        "id": "Wa8o0zX1vmQg"
      },
      "execution_count": 14,
      "outputs": []
    },
    {
      "cell_type": "code",
      "source": [
        "# Geçersiz değişken tanımlaması\n",
        "1degisken = 40\n",
        "degisken-4 = 50"
      ],
      "metadata": {
        "colab": {
          "base_uri": "https://localhost:8080/",
          "height": 106
        },
        "id": "6MQyvmnrv0FA",
        "outputId": "c43d7dcb-5e0d-418d-c2e9-93daf3c5a76a"
      },
      "execution_count": 15,
      "outputs": [
        {
          "output_type": "error",
          "ename": "SyntaxError",
          "evalue": "invalid decimal literal (<ipython-input-15-7cd3bbcf57d9>, line 2)",
          "traceback": [
            "\u001b[0;36m  File \u001b[0;32m\"<ipython-input-15-7cd3bbcf57d9>\"\u001b[0;36m, line \u001b[0;32m2\u001b[0m\n\u001b[0;31m    1degisken = 40\u001b[0m\n\u001b[0m    ^\u001b[0m\n\u001b[0;31mSyntaxError\u001b[0m\u001b[0;31m:\u001b[0m invalid decimal literal\n"
          ]
        }
      ]
    },
    {
      "cell_type": "code",
      "source": [
        "# Değişken Tanımlama İşlemi\n",
        "\n",
        "x = 5\n",
        "y = \"Merhaba Dünya\"\n",
        "\n",
        "print(x)\n",
        "print(y)"
      ],
      "metadata": {
        "colab": {
          "base_uri": "https://localhost:8080/"
        },
        "id": "0rwgsQc8v3Lo",
        "outputId": "ef0799e4-18cd-483b-c329-716dd47d03f6"
      },
      "execution_count": 16,
      "outputs": [
        {
          "output_type": "stream",
          "name": "stdout",
          "text": [
            "5\n",
            "Merhaba Dünya\n"
          ]
        }
      ]
    },
    {
      "cell_type": "code",
      "source": [
        "# Integer - Tamsayı tanımlaması\n",
        "\n",
        "a = 10\n",
        "print(type(a))"
      ],
      "metadata": {
        "colab": {
          "base_uri": "https://localhost:8080/"
        },
        "id": "yYSRdIZjyWxZ",
        "outputId": "81049305-85fc-45de-b482-4c42ab5a3832"
      },
      "execution_count": 17,
      "outputs": [
        {
          "output_type": "stream",
          "name": "stdout",
          "text": [
            "<class 'int'>\n"
          ]
        }
      ]
    },
    {
      "cell_type": "code",
      "source": [
        "# Float - Ondalıklı Sayı Tanımlaması\n",
        "\n",
        "b = 20.5\n",
        "print(type(b))"
      ],
      "metadata": {
        "colab": {
          "base_uri": "https://localhost:8080/"
        },
        "id": "iSpRwNnV6CXZ",
        "outputId": "23048989-7672-468a-e71c-e56b6a0b37c6"
      },
      "execution_count": 18,
      "outputs": [
        {
          "output_type": "stream",
          "name": "stdout",
          "text": [
            "<class 'float'>\n"
          ]
        }
      ]
    },
    {
      "cell_type": "code",
      "source": [
        "# int'ten float'a çevrimin gerçekleştirilmesi\n",
        "\n",
        "x = 10\n",
        "y = float(x)\n",
        "\n",
        "print(y, type(y))"
      ],
      "metadata": {
        "colab": {
          "base_uri": "https://localhost:8080/"
        },
        "id": "vT6Ws2JO6bCn",
        "outputId": "c67cd1c5-be2e-4361-def8-e941985490d0"
      },
      "execution_count": 20,
      "outputs": [
        {
          "output_type": "stream",
          "name": "stdout",
          "text": [
            "10.0 <class 'float'>\n"
          ]
        }
      ]
    },
    {
      "cell_type": "code",
      "source": [
        "# float'tan int'e çevrimin gerçekleştirilmesi\n",
        "\n",
        "x = 10.53\n",
        "y = int(x)\n",
        "\n",
        "print(y, type(y))"
      ],
      "metadata": {
        "colab": {
          "base_uri": "https://localhost:8080/"
        },
        "id": "CzP8lTp36rbn",
        "outputId": "28ebcffd-c77c-4650-9aa0-c691da63dfa2"
      },
      "execution_count": 21,
      "outputs": [
        {
          "output_type": "stream",
          "name": "stdout",
          "text": [
            "10 <class 'int'>\n"
          ]
        }
      ]
    },
    {
      "cell_type": "code",
      "source": [
        "# String - Metinsel içerik tanımlaması\n",
        "c = \"Python Programlama\"\n",
        "print(c)\n",
        "print(type(c))"
      ],
      "metadata": {
        "colab": {
          "base_uri": "https://localhost:8080/"
        },
        "id": "d2relNGc7Bye",
        "outputId": "0e330448-442b-4b75-c2f5-2b2915aa29ea"
      },
      "execution_count": 22,
      "outputs": [
        {
          "output_type": "stream",
          "name": "stdout",
          "text": [
            "Python Programlama\n",
            "<class 'str'>\n"
          ]
        }
      ]
    },
    {
      "cell_type": "code",
      "source": [
        "# Boolean (True - False) - Doğru / Yanlış tanımlaması\n",
        "\n",
        "d = True\n",
        "e = False\n",
        "print(d)\n",
        "print(type(e))"
      ],
      "metadata": {
        "colab": {
          "base_uri": "https://localhost:8080/"
        },
        "id": "jnMqEv7W702C",
        "outputId": "8083820a-e652-4975-d2e5-6ca6813f3cd5"
      },
      "execution_count": 23,
      "outputs": [
        {
          "output_type": "stream",
          "name": "stdout",
          "text": [
            "True\n",
            "<class 'bool'>\n"
          ]
        }
      ]
    },
    {
      "cell_type": "code",
      "source": [
        "# List - Liste tanımlaması\n",
        "\n",
        "liste = [1, 2, 3, 4, 5]\n",
        "print(type(liste))\n",
        "print(liste)"
      ],
      "metadata": {
        "colab": {
          "base_uri": "https://localhost:8080/"
        },
        "id": "qIWJ4mqd-QM6",
        "outputId": "2cfdd755-3699-4a1f-80b8-f66f792e7db0"
      },
      "execution_count": 24,
      "outputs": [
        {
          "output_type": "stream",
          "name": "stdout",
          "text": [
            "<class 'list'>\n",
            "[1, 2, 3, 4, 5]\n"
          ]
        }
      ]
    },
    {
      "cell_type": "code",
      "source": [
        "# Tuple - Demet tanımlaması\n",
        "\n",
        "demet = (1, 2, 3, 4, 5)\n",
        "print(type(demet))\n",
        "print(demet)"
      ],
      "metadata": {
        "colab": {
          "base_uri": "https://localhost:8080/"
        },
        "id": "8TJpUHLu-WmR",
        "outputId": "a3cb21ae-ca1c-44fd-997c-64d140df9f83"
      },
      "execution_count": 25,
      "outputs": [
        {
          "output_type": "stream",
          "name": "stdout",
          "text": [
            "<class 'tuple'>\n",
            "(1, 2, 3, 4, 5)\n"
          ]
        }
      ]
    },
    {
      "cell_type": "markdown",
      "source": [
        "Dictionary - Sözlük Nedir?\n",
        "\n",
        "Sözlükler, anahtar-değer (key-value) çiftlerini depolayan veri yapılarıdır.\n",
        "Her anahtar benzersizdir ve bir değere karşılık gelir.\n",
        "Sözlükler sırasızdır ve değiştirilebilir.\n",
        "Sözlük Metotları\n",
        "\n",
        "keys(): Sözlüğün anahtarlarını döner.\n",
        "values(): Sözlüğün değerlerini döner.\n",
        "items(): Sözlüğün anahtar-değer çiftlerini döner."
      ],
      "metadata": {
        "id": "nyKkVjo5_jIV"
      }
    },
    {
      "cell_type": "code",
      "source": [
        "# Dictionary - Sözlük Örneği -> Öğrencilerin notlarını tutan bir sözlük\n",
        "notlar = {\n",
        "    \"Ali\": 85,\n",
        "    \"Veli\": 90,\n",
        "    \"Ayşe\": 78\n",
        "}\n",
        "\n",
        "notlar[\"Fatma\"] = 92 # Yeni öğrenci ekleme\n",
        "\n",
        "notlar[\"Ali\"] = 88 # Bir öğrencinin notunu günceller\n",
        "\n",
        "print(notlar)"
      ],
      "metadata": {
        "colab": {
          "base_uri": "https://localhost:8080/"
        },
        "id": "irTyqCk3_kDi",
        "outputId": "aa7d426d-cb1d-474a-fdfc-3af7f43cc057"
      },
      "execution_count": 26,
      "outputs": [
        {
          "output_type": "stream",
          "name": "stdout",
          "text": [
            "{'Ali': 88, 'Veli': 90, 'Ayşe': 78, 'Fatma': 92}\n"
          ]
        }
      ]
    },
    {
      "cell_type": "code",
      "source": [
        "print(notlar.keys())   # dict_keys(['isim', 'yas', 'meslek'])\n",
        "print(notlar.values()) # dict_values(['Ahmet', 26, 'Mühendis'])\n",
        "print(notlar.items())  # dict_items([('isim', 'Ahmet'), ('yas', 26), ('meslek', 'Mühendis')])"
      ],
      "metadata": {
        "colab": {
          "base_uri": "https://localhost:8080/"
        },
        "id": "ZjdlTWI9AyWq",
        "outputId": "07e00ca8-9777-4f68-8043-3bb1baf8e79f"
      },
      "execution_count": 27,
      "outputs": [
        {
          "output_type": "stream",
          "name": "stdout",
          "text": [
            "dict_keys(['Ali', 'Veli', 'Ayşe', 'Fatma'])\n",
            "dict_values([88, 90, 78, 92])\n",
            "dict_items([('Ali', 88), ('Veli', 90), ('Ayşe', 78), ('Fatma', 92)])\n"
          ]
        }
      ]
    },
    {
      "cell_type": "markdown",
      "source": [
        "Set - Küme Nedir?\n",
        "\n",
        "1.Kümeler, benzersiz elemanlardan oluşan sırasız koleksiyonlardır.\n",
        "2.Kümeler değiştirilebilir ve tekrarlayan eleman içermez.\n",
        "Küme Metotları\n",
        "\n",
        "1.add(): Küme içerisine eleman ekler.\n",
        "2.remove(): Küme içerisinden eleman siler.\n",
        "3.union(): İki kümenin birleşimini döner.\n",
        "4.intersection(): İki kümenin kesişimini döner.\n",
        "5.difference(): İki kümenin farkını döner."
      ],
      "metadata": {
        "id": "jhB3kDIKBwZP"
      }
    },
    {
      "cell_type": "code",
      "source": [
        "# Set - Küme Örneği -> Bir yazılım etkinliğine katılan kişilerin oluşturduğu kümeler\n",
        "\n",
        "kodyazanlar = {\"Ahmet\", \"Mehmet\", \"Ayşe\"}\n",
        "kodyazmayanlar = {\"Ayşe\", \"Fatma\", \"Veli\"}\n",
        "\n",
        "# Kafasına Göre Takılan Öğrenciler\n",
        "\n",
        "ortak = kodyazanlar.intersection(kodyazmayanlar)\n",
        "print(\"Kafasına Göre Takılan Öğrencilerin Listesi:\", ortak)\n",
        "\n",
        "# Etkinlikte Kod Çalışması Yapmayan Öğrencilerin Tespiti\n",
        "\n",
        "Kod_yazmayan = kodyazmayanlar.difference(kodyazanlar)\n",
        "print(\"Kod çalışması yapmayan öğrenci listesi:\", Kod_yazmayan)\n",
        "\n",
        "# Yazılım Eğitiminin Öğrenci İmza Listesi\n",
        "\n",
        "imza_listesi = kodyazanlar.union(kodyazmayanlar)\n",
        "print(\"Etkinlik katılımcıları:\", imza_listesi)"
      ],
      "metadata": {
        "colab": {
          "base_uri": "https://localhost:8080/"
        },
        "id": "ipQqY_UzCHa9",
        "outputId": "e773d656-772b-4377-a6f0-6e9277c52329"
      },
      "execution_count": 28,
      "outputs": [
        {
          "output_type": "stream",
          "name": "stdout",
          "text": [
            "Kafasına Göre Takılan Öğrencilerin Listesi: {'Ayşe'}\n",
            "Kod çalışması yapmayan öğrenci listesi: {'Veli', 'Fatma'}\n",
            "Etkinlik katılımcıları: {'Mehmet', 'Fatma', 'Ayşe', 'Ahmet', 'Veli'}\n"
          ]
        }
      ]
    },
    {
      "cell_type": "code",
      "source": [
        "giris = input(\"Bir sayı girin: \")\n",
        "try:\n",
        "    num = float(giris)\n",
        "    print(f\"Girilen sayı: {num}, tipi: {type(num)},\", abs(num))\n",
        "except ValueError:\n",
        "    print(\"Geçersiz veri girdiniz.\")"
      ],
      "metadata": {
        "colab": {
          "base_uri": "https://localhost:8080/"
        },
        "id": "PeUYBQimDzJ0",
        "outputId": "ea8c7dd2-bfca-483e-e748-86a962f82a66"
      },
      "execution_count": 32,
      "outputs": [
        {
          "output_type": "stream",
          "name": "stdout",
          "text": [
            "Bir sayı girin: -12\n",
            "Girilen sayı: -12.0, tipi: <class 'float'>, 12.0\n"
          ]
        }
      ]
    },
    {
      "cell_type": "code",
      "source": [
        "# 0 ile 1 arasında rastgele bir ondalık sayı üretir\n",
        "import random\n",
        "\n",
        "rastgele_float = random.random()\n",
        "print(\"Rastgele Deger:\"), rastgele_float"
      ],
      "metadata": {
        "colab": {
          "base_uri": "https://localhost:8080/"
        },
        "id": "E5InEPlpFBug",
        "outputId": "45834839-efb7-4326-e1d6-34e04e3d9a9b"
      },
      "execution_count": 56,
      "outputs": [
        {
          "output_type": "stream",
          "name": "stdout",
          "text": [
            "Rastgele Deger:\n"
          ]
        },
        {
          "output_type": "execute_result",
          "data": {
            "text/plain": [
              "(None, 0.6483632707864345)"
            ]
          },
          "metadata": {},
          "execution_count": 56
        }
      ]
    },
    {
      "cell_type": "code",
      "source": [
        "# 1 ile 10 arasında (her iki sınır dahil) rastgele bir tam sayı üretir\n",
        "import random\n",
        "rastgele_sayi = random.randint(1, 10)\n",
        "print(\"Rastgele Deger:\", rastgele_sayi)"
      ],
      "metadata": {
        "colab": {
          "base_uri": "https://localhost:8080/"
        },
        "id": "deauBGJpFlh4",
        "outputId": "9c20036c-998f-4e08-cf72-84123ce51f48"
      },
      "execution_count": 69,
      "outputs": [
        {
          "output_type": "stream",
          "name": "stdout",
          "text": [
            "Rastgele Deger: 10\n"
          ]
        }
      ]
    }
  ]
}