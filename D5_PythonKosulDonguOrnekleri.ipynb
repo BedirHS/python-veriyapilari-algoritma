{
  "nbformat": 4,
  "nbformat_minor": 0,
  "metadata": {
    "colab": {
      "provenance": []
    },
    "kernelspec": {
      "name": "python3",
      "display_name": "Python 3"
    },
    "language_info": {
      "name": "python"
    }
  },
  "cells": [
    {
      "cell_type": "code",
      "execution_count": 7,
      "metadata": {
        "colab": {
          "base_uri": "https://localhost:8080/"
        },
        "id": "wCSH_GSaC9O0",
        "outputId": "23489e77-ffac-4f31-92e9-ef48956a3a3d"
      },
      "outputs": [
        {
          "output_type": "stream",
          "name": "stdout",
          "text": [
            "Merhaba, İGÜ - İSTKA / Ders 5\n"
          ]
        }
      ],
      "source": [
        "print(\"Merhaba, İGÜ - İSTKA / Ders 5\") # print ekrana çıktı veren bir koddur."
      ]
    },
    {
      "cell_type": "code",
      "source": [
        "import sys # import python programlama dilinde yazılıma kütüphane eklemeye yarayan bir kod blogudur.\n",
        "print(sys.version)"
      ],
      "metadata": {
        "colab": {
          "base_uri": "https://localhost:8080/"
        },
        "id": "w0jMl_xhC-3r",
        "outputId": "b3e64de1-fca4-40be-bcca-f5f56aaba607"
      },
      "execution_count": 2,
      "outputs": [
        {
          "output_type": "stream",
          "name": "stdout",
          "text": [
            "3.10.12 (main, Jul 29 2024, 16:56:48) [GCC 11.4.0]\n"
          ]
        }
      ]
    },
    {
      "cell_type": "code",
      "source": [
        "from google.colab import drive # google colab - drive bağlantısı\n",
        "\n",
        "drive.mount('/content/drive')"
      ],
      "metadata": {
        "colab": {
          "base_uri": "https://localhost:8080/"
        },
        "id": "2ikM_LrxDA3a",
        "outputId": "324d448d-741a-4ae1-d648-598e48959297"
      },
      "execution_count": 3,
      "outputs": [
        {
          "output_type": "stream",
          "name": "stdout",
          "text": [
            "Mounted at /content/drive\n"
          ]
        }
      ]
    },
    {
      "cell_type": "code",
      "source": [
        "import os\n",
        "\n",
        "os.chdir('/content/drive/My Drive/VERIYAPILARI_ISTKA')\n",
        "\n",
        "!pwd # bize kodun çıktısını dosya yolu olarak veren kod blogudur."
      ],
      "metadata": {
        "colab": {
          "base_uri": "https://localhost:8080/"
        },
        "id": "Tc0EHNSlDCxi",
        "outputId": "41cf2cef-cd23-4e08-dd98-6c625c405509"
      },
      "execution_count": 4,
      "outputs": [
        {
          "output_type": "stream",
          "name": "stdout",
          "text": [
            "/content/drive/My Drive/VERIYAPILARI_ISTKA\n"
          ]
        }
      ]
    },
    {
      "cell_type": "code",
      "source": [
        "# 1 ile 100 arasındaki sayılardan 7'ye bölünenleri ve bölünmeyenleri bulan Python kodu\n",
        "Sayi_dizisi = []\n",
        "Sayi_dizisi2 = []\n",
        "sayi = 1\n",
        "\n",
        "while sayi <= 100:\n",
        "  if sayi % 7 == 0:\n",
        "   Sayi_dizisi.append(sayi)\n",
        "  elif sayi % 7 != 0:\n",
        "     Sayi_dizisi2.append(sayi)\n",
        "  sayi += 1\n",
        "\n",
        "# Sonucu ekrana yazdırma\n",
        "print(\"1 ile 100 arasındaki 7'ye bölünen sayılar: \", Sayi_dizisi)\n",
        "print(\"Toplam bölünen sayı adeti: \", len(Sayi_dizisi))\n",
        "\n",
        "print(\"1 ile 100 arasındaki 7'ye bölünmeyen sayılar: \", Sayi_dizisi2)\n",
        "print(\"Toplam bölünmeyen sayı adeti: \", len(Sayi_dizisi2))"
      ],
      "metadata": {
        "colab": {
          "base_uri": "https://localhost:8080/"
        },
        "id": "olChLXOLDd1r",
        "outputId": "d61b8762-b300-4d1a-fe2e-84ae9cf54701"
      },
      "execution_count": 18,
      "outputs": [
        {
          "output_type": "stream",
          "name": "stdout",
          "text": [
            "1 ile 100 arasındaki 7'ye bölünen sayılar:  [7, 14, 21, 28, 35, 42, 49, 56, 63, 70, 77, 84, 91, 98]\n",
            "Toplam sayı adeti:  14\n",
            "1 ile 100 arasındaki 7'ye bölünmeyen sayılar:  [1, 2, 3, 4, 5, 6, 8, 9, 10, 11, 12, 13, 15, 16, 17, 18, 19, 20, 22, 23, 24, 25, 26, 27, 29, 30, 31, 32, 33, 34, 36, 37, 38, 39, 40, 41, 43, 44, 45, 46, 47, 48, 50, 51, 52, 53, 54, 55, 57, 58, 59, 60, 61, 62, 64, 65, 66, 67, 68, 69, 71, 72, 73, 74, 75, 76, 78, 79, 80, 81, 82, 83, 85, 86, 87, 88, 89, 90, 92, 93, 94, 95, 96, 97, 99, 100]\n",
            "Toplam sayı adeti:  86\n"
          ]
        }
      ]
    },
    {
      "cell_type": "code",
      "source": [
        "# Girilen iki kodun hangisinin büyük olduğunu bulan ve sayı dışında girilen karakterin hatalı olduğu bildiren kod blogudur.\n",
        "\n",
        "while True:\n",
        "  try:\n",
        "    gelen1 = float(input(\"Birinci sayıyı girin: \"))\n",
        "    gelen2 = float(input(\"İkinci sayıyı girin: \"))\n",
        "\n",
        "    if gelen1 > gelen2:\n",
        "      print(\"İlk sayı büyüktür.\")\n",
        "    elif gelen1 < gelen2:\n",
        "      print(\"İkinci sayı büyüktür.\")\n",
        "    else:\n",
        "      print(\"Sayılar birbirine eşittir.\")\n",
        "\n",
        "    break\n",
        "  except ValueError:\n",
        "   print(\"Lütfen geçerli bir sayı girin.\")"
      ],
      "metadata": {
        "colab": {
          "base_uri": "https://localhost:8080/"
        },
        "id": "9bTPbzYTKddx",
        "outputId": "1f58ff8f-e017-441a-d228-72e610cac1d3"
      },
      "execution_count": 26,
      "outputs": [
        {
          "output_type": "stream",
          "name": "stdout",
          "text": [
            "Birinci sayıyı girin: 0\n",
            "İkinci sayıyı girin: 0\n",
            "Sayılar birbirine eşittir.\n"
          ]
        }
      ]
    },
    {
      "cell_type": "code",
      "source": [
        "# Kullanıcıdan alınan sayıya kadar 1'den başlayarak faktöreyel hesabının yapılmasıdır.\n",
        "\n",
        "while True:\n",
        " try:\n",
        "  sayi = int(input(\"Bir sayi girin: \"))\n",
        "  if sayi < 0:\n",
        "   print(\"Negatif sayıların faktöriyeli alınmaz.\")\n",
        "  elif sayi == 0 or sayi == 1:\n",
        "   print(1)\n",
        "  else:\n",
        "   sonuc = 1\n",
        "   while sayi > 1:\n",
        "    sonuc *= sayi\n",
        "    sayi -= 1\n",
        "   print(sonuc)\n",
        "  break\n",
        " except ValueError:\n",
        "  print(\"Lütfen geçerli bir sayı giriniz. \")"
      ],
      "metadata": {
        "colab": {
          "base_uri": "https://localhost:8080/"
        },
        "id": "Ij_76SkHNAZ0",
        "outputId": "75e6884e-04e0-416b-d235-551a2d19ac0d"
      },
      "execution_count": 33,
      "outputs": [
        {
          "output_type": "stream",
          "name": "stdout",
          "text": [
            "Bir sayi girin: 3\n",
            "6\n"
          ]
        }
      ]
    },
    {
      "cell_type": "markdown",
      "source": [
        "Kullanıcıdan başlangıç ve bitiş değerlerini alarak, bu değerler arasındaki çift sayıları bulan ve bu çift sayıların toplamını hesaplayan bir Python programı yazınız."
      ],
      "metadata": {
        "id": "fQfYcR93WQrs"
      }
    },
    {
      "cell_type": "code",
      "source": [
        "# Kullanıcıdan başlangıç değeri al\n",
        "\n",
        "while True:\n",
        "  try:\n",
        "    baslangic_degeri = int(input(\"Başlangıç değeri girin: \"))\n",
        "    if baslangic_degeri < 0:\n",
        "      baslangic_degeri = abs(baslangic_degeri)\n",
        "      print(\"Negatif girdiğiniz sayının pozitif değeri alınmıştır.\")\n",
        "    break\n",
        "  except ValueError:\n",
        "    print(\"Lütfen geçerli bir sayı giriniz.\")\n",
        "\n",
        "# Kullanıcıdan son değer al\n",
        "\n",
        "while True:\n",
        "  try:\n",
        "    son_deger = int(input(\"Son değeri girin: \"))\n",
        "    if son_deger < 0:\n",
        "      son_deger = abs(son_deger)\n",
        "      print(\"Negatif girdiğiniz sayının pozitif değeri alınmıştır.\")\n",
        "    break\n",
        "  except ValueError:\n",
        "    print(\"Lütfen geçerli bir sayı giriniz.\")\n",
        "\n",
        "# Başlangıç ve bitiş değerleri arasında çift sayıları bul ve topla\n",
        "\n",
        "cift_sayilar = []\n",
        "cift_sayilarin_toplami = 0\n",
        "sayi = baslangic_degeri\n",
        "\n",
        "while sayi <= son_deger:\n",
        "  if sayi % 2 == 0:\n",
        "    cift_sayilar.append(sayi)\n",
        "    cift_sayilarin_toplami += sayi\n",
        "  sayi += 1\n",
        "\n",
        "# Elde edilen çift sayıları ve toplamlarını ekrana yazdır\n",
        "\n",
        "print(f\"{baslangic_degeri} ile {son_deger} arasındaki çift sayılar:\")\n",
        "for num in cift_sayilar:\n",
        "    print(num, end=\" \")\n",
        "\n",
        "print(f\"\\nÇift sayıların toplamı: {cift_sayilarin_toplami}\")"
      ],
      "metadata": {
        "colab": {
          "base_uri": "https://localhost:8080/"
        },
        "id": "42ydYTKSWJrb",
        "outputId": "eea5c42e-c72f-452f-ce20-8fdc44ba8135"
      },
      "execution_count": 38,
      "outputs": [
        {
          "output_type": "stream",
          "name": "stdout",
          "text": [
            "Başlangıç değeri girin: 20\n",
            "Son değeri girin: 80\n",
            "20 ile 80 arasındaki çift sayılar:\n",
            "20 22 24 26 28 30 32 34 36 38 40 42 44 46 48 50 52 54 56 58 60 62 64 66 68 70 72 74 76 78 80 \n",
            "Çift sayıların toplamı: 1550\n"
          ]
        }
      ]
    },
    {
      "cell_type": "code",
      "source": [
        "# Önceden tanımlalan sesli harf listesinde girilen metnin karşılaştırılması yapılarak sesli ve sessiz harf kontrolünün yapımı\n",
        "sesli_harfler = 'aeıioöuüAEIİOÖUÜ'\n",
        "\n",
        "kelime = input(\"Bir kelime girin: \") # Kullanıcıdan bir kelime al\n",
        "\n",
        "# Sesli ve sessiz harf sayısını hesapla\n",
        "sesli_harf_sayisi = 0\n",
        "sessiz_harf_sayisi = 0\n",
        "\n",
        "'''\n",
        "isalpha() ile bir stringde yalnızca harf olup olmadığını kontrol etmek için kullanılır.\n",
        "\n",
        "Aşağıdaki kod blogunda geçen \"isalpha\" harf dışı bir karakter ile karşılaşınca \"false\" döndürmektedir.\n",
        "'''\n",
        "\n",
        "for harf in kelime:\n",
        "    if harf.isalpha():  # Sadece harfleri kontrol et\n",
        "        if harf in sesli_harfler:\n",
        "            sesli_harf_sayisi += 1\n",
        "        else:\n",
        "            sessiz_harf_sayisi += 1\n",
        "\n",
        "# Sonuçları ekrana yazdır\n",
        "print(kelime, \"kelimesinde\" , sesli_harf_sayisi , \"adet sesli harf ve\", sessiz_harf_sayisi, \"sessiz harf vardır.\")"
      ],
      "metadata": {
        "colab": {
          "base_uri": "https://localhost:8080/"
        },
        "id": "WpFiOQr1bJ2n",
        "outputId": "1c2483fd-b1d4-47dc-a407-3e66d083154f"
      },
      "execution_count": 40,
      "outputs": [
        {
          "output_type": "stream",
          "name": "stdout",
          "text": [
            "Bir kelime girin: Merhaba\n",
            "Merhaba kelimesinde 3 adet sesli harf ve 4 sessiz harf vardır.\n"
          ]
        }
      ]
    }
  ]
}